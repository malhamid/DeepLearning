{
 "cells": [
  {
   "cell_type": "markdown",
   "metadata": {},
   "source": [
    "### About this Notebook \n",
    "This notebook uses Convolutional Neural Network to recognize hand-written digits. \n",
    "\n",
    "### Author \n",
    "This notebook was written by Mohammed Alhamid\n",
    "\n",
    "### Objective \n",
    "Creating fully-dense Convolutional Neural Net using Keras to recognize hand-written digits provided by MNIST database. "
   ]
  },
  {
   "cell_type": "markdown",
   "metadata": {},
   "source": [
    "![digits.png](images/digits.png)"
   ]
  },
  {
   "cell_type": "markdown",
   "metadata": {},
   "source": [
    "### Main libraries used "
   ]
  },
  {
   "cell_type": "markdown",
   "metadata": {},
   "source": [
    "![library.png](images/library.png)"
   ]
  },
  {
   "cell_type": "code",
   "execution_count": 1,
   "metadata": {},
   "outputs": [
    {
     "name": "stderr",
     "output_type": "stream",
     "text": [
      "Using TensorFlow backend.\n",
      "/Users/mohammedalhamid/anaconda3/envs/py37/lib/python3.7/site-packages/tensorflow/python/framework/dtypes.py:526: FutureWarning: Passing (type, 1) or '1type' as a synonym of type is deprecated; in a future version of numpy, it will be understood as (type, (1,)) / '(1,)type'.\n",
      "  _np_qint8 = np.dtype([(\"qint8\", np.int8, 1)])\n",
      "/Users/mohammedalhamid/anaconda3/envs/py37/lib/python3.7/site-packages/tensorflow/python/framework/dtypes.py:527: FutureWarning: Passing (type, 1) or '1type' as a synonym of type is deprecated; in a future version of numpy, it will be understood as (type, (1,)) / '(1,)type'.\n",
      "  _np_quint8 = np.dtype([(\"quint8\", np.uint8, 1)])\n",
      "/Users/mohammedalhamid/anaconda3/envs/py37/lib/python3.7/site-packages/tensorflow/python/framework/dtypes.py:528: FutureWarning: Passing (type, 1) or '1type' as a synonym of type is deprecated; in a future version of numpy, it will be understood as (type, (1,)) / '(1,)type'.\n",
      "  _np_qint16 = np.dtype([(\"qint16\", np.int16, 1)])\n",
      "/Users/mohammedalhamid/anaconda3/envs/py37/lib/python3.7/site-packages/tensorflow/python/framework/dtypes.py:529: FutureWarning: Passing (type, 1) or '1type' as a synonym of type is deprecated; in a future version of numpy, it will be understood as (type, (1,)) / '(1,)type'.\n",
      "  _np_quint16 = np.dtype([(\"quint16\", np.uint16, 1)])\n",
      "/Users/mohammedalhamid/anaconda3/envs/py37/lib/python3.7/site-packages/tensorflow/python/framework/dtypes.py:530: FutureWarning: Passing (type, 1) or '1type' as a synonym of type is deprecated; in a future version of numpy, it will be understood as (type, (1,)) / '(1,)type'.\n",
      "  _np_qint32 = np.dtype([(\"qint32\", np.int32, 1)])\n",
      "/Users/mohammedalhamid/anaconda3/envs/py37/lib/python3.7/site-packages/tensorflow/python/framework/dtypes.py:535: FutureWarning: Passing (type, 1) or '1type' as a synonym of type is deprecated; in a future version of numpy, it will be understood as (type, (1,)) / '(1,)type'.\n",
      "  np_resource = np.dtype([(\"resource\", np.ubyte, 1)])\n"
     ]
    }
   ],
   "source": [
    "# Importing MNIST library from Keras\n",
    "from keras.datasets import mnist\n",
    "# Importing Matplotlib for visualization \n",
    "from matplotlib import pyplot\n",
    "import matplotlib.pyplot as plt\n",
    "# Importing Numpy library \n",
    "import numpy as np\n",
    "import keras \n",
    "\n",
    "%matplotlib inline"
   ]
  },
  {
   "cell_type": "markdown",
   "metadata": {},
   "source": [
    "### Loading the dataset"
   ]
  },
  {
   "cell_type": "code",
   "execution_count": 2,
   "metadata": {},
   "outputs": [],
   "source": [
    "def load_dataset():\n",
    "    (X_train, y_train), (X_test, y_test) = mnist.load_data()\n",
    "    return X_train, y_train, X_test, y_test"
   ]
  },
  {
   "cell_type": "code",
   "execution_count": 3,
   "metadata": {},
   "outputs": [],
   "source": [
    "X_train, y_train, X_test, y_test = load_dataset()"
   ]
  },
  {
   "cell_type": "code",
   "execution_count": 4,
   "metadata": {},
   "outputs": [
    {
     "name": "stdout",
     "output_type": "stream",
     "text": [
      "The number of images in the training dataset= 60000\n",
      "The number of images in the test dataset 10000\n"
     ]
    }
   ],
   "source": [
    "#Explore the content of the dataset \n",
    "print('The number of images in the training dataset=', X_train.shape[0])\n",
    "print('The number of images in the test dataset', X_test.shape[0])"
   ]
  },
  {
   "cell_type": "code",
   "execution_count": 5,
   "metadata": {},
   "outputs": [
    {
     "data": {
      "text/plain": [
       "(60000, 28, 28)"
      ]
     },
     "execution_count": 5,
     "metadata": {},
     "output_type": "execute_result"
    }
   ],
   "source": [
    "#The shape of images\n",
    "X_train.shape"
   ]
  },
  {
   "cell_type": "code",
   "execution_count": 6,
   "metadata": {},
   "outputs": [
    {
     "data": {
      "text/plain": [
       "(60000,)"
      ]
     },
     "execution_count": 6,
     "metadata": {},
     "output_type": "execute_result"
    }
   ],
   "source": [
    "#The shape of labels\n",
    "y_train.shape"
   ]
  },
  {
   "cell_type": "markdown",
   "metadata": {},
   "source": [
    "### Visualize some example from the dataset"
   ]
  },
  {
   "cell_type": "code",
   "execution_count": 7,
   "metadata": {},
   "outputs": [
    {
     "data": {
      "image/png": "[encoded data removed]",
      "text/plain": [
       "<Figure size 432x288 with 9 Axes>"
      ]
     },
     "metadata": {
      "needs_background": "light"
     },
     "output_type": "display_data"
    }
   ],
   "source": [
    "# Let us visualize 12 examples: \n",
    "for i in range(9):\n",
    "    # set the subplot\n",
    "    pyplot.subplot(330 + 1 + i)\n",
    "    # plot image pixesles\n",
    "    pyplot.imshow(X_train[i], cmap=pyplot.get_cmap('gray'))\n",
    "    \n",
    "# Display the image\n",
    "pyplot.show()"
   ]
  },
  {
   "cell_type": "code",
   "execution_count": 8,
   "metadata": {},
   "outputs": [
    {
     "data": {
      "text/plain": [
       "<function matplotlib.pyplot.show(*args, **kw)>"
      ]
     },
     "execution_count": 8,
     "metadata": {},
     "output_type": "execute_result"
    },
    {
     "data": {
      "image/png": "[encoded data removed]",
      "text/plain": [
       "<Figure size 432x288 with 10 Axes>"
      ]
     },
     "metadata": {
      "needs_background": "light"
     },
     "output_type": "display_data"
    }
   ],
   "source": [
    "#Display last images\n",
    "fig, ax = plt.subplots(1, 10)\n",
    "for i in range(10):\n",
    "    ax[i].imshow(X_train[X_train.shape[0]-1-i], cmap=\"gray\")\n",
    "plt.show"
   ]
  },
  {
   "cell_type": "code",
   "execution_count": 9,
   "metadata": {},
   "outputs": [
    {
     "data": {
      "text/plain": [
       "array([5, 0, 4, ..., 5, 6, 8], dtype=uint8)"
      ]
     },
     "execution_count": 9,
     "metadata": {},
     "output_type": "execute_result"
    }
   ],
   "source": [
    "# Explore the contents of the target labels \n",
    "y_train"
   ]
  },
  {
   "cell_type": "markdown",
   "metadata": {},
   "source": [
    "# Preprocessing Training data"
   ]
  },
  {
   "cell_type": "code",
   "execution_count": 10,
   "metadata": {},
   "outputs": [
    {
     "name": "stdout",
     "output_type": "stream",
     "text": [
      "Number of unique values 10\n",
      "[0 1 2 3 4 5 6 7 8 9]\n"
     ]
    }
   ],
   "source": [
    "# Record the number of unique values \n",
    "print('Number of unique values', len(np.unique(y_train)))\n",
    "print(np.unique(y_train))"
   ]
  },
  {
   "cell_type": "code",
   "execution_count": 11,
   "metadata": {},
   "outputs": [],
   "source": [
    "def process_images(X_train, X_test):\n",
    "    img_x, img_y = X_train.shape[1], X_train.shape[2]\n",
    "    # Reshaping the images\n",
    "    X_train = X_train.reshape(X_train.shape[0], img_x, img_y, 1)\n",
    "    X_test =  X_test.reshape(X_test.shape[0], img_x, img_y, 1)\n",
    "    \n",
    "    X_train = X_train.astype('float32')\n",
    "    X_test = X_test.astype('float32')\n",
    "    \n",
    "    X_train /= 255\n",
    "    X_test /= 255\n",
    "    input_shape = (img_x, img_y, 1)\n",
    "    return X_train, X_test, input_shape"
   ]
  },
  {
   "cell_type": "code",
   "execution_count": 12,
   "metadata": {},
   "outputs": [],
   "source": [
    "X_train, X_test, input_shape = process_images(X_train, X_test)"
   ]
  },
  {
   "cell_type": "code",
   "execution_count": 13,
   "metadata": {},
   "outputs": [
    {
     "name": "stdout",
     "output_type": "stream",
     "text": [
      "Shape of X_train (60000, 28, 28, 1)\n",
      "Shape of X_test (10000, 28, 28, 1)\n",
      "Shape of y_train (60000,)\n",
      "Shape of y_test (10000,)\n"
     ]
    }
   ],
   "source": [
    "print('Shape of X_train', X_train.shape)\n",
    "print('Shape of X_test', X_test.shape)\n",
    "print('Shape of y_train', y_train.shape)\n",
    "print('Shape of y_test', y_test.shape)"
   ]
  },
  {
   "cell_type": "markdown",
   "metadata": {},
   "source": [
    "# Preprocessing the labels "
   ]
  },
  {
   "cell_type": "code",
   "execution_count": 14,
   "metadata": {},
   "outputs": [],
   "source": [
    "# The number of classes is equal to 10, which represents the unique values of the vestor y_train and y_test\n",
    "num_classes = 10"
   ]
  },
  {
   "cell_type": "code",
   "execution_count": 15,
   "metadata": {},
   "outputs": [],
   "source": [
    "# We need first to one-hot encode the labels, this will speed up the training\n",
    "y_train = keras.utils.to_categorical(y_train, num_classes)"
   ]
  },
  {
   "cell_type": "code",
   "execution_count": 16,
   "metadata": {},
   "outputs": [],
   "source": [
    "#Similar encoding for the testing data\n",
    "y_test = keras.utils.to_categorical(y_test, num_classes)"
   ]
  },
  {
   "cell_type": "code",
   "execution_count": 17,
   "metadata": {},
   "outputs": [
    {
     "data": {
      "text/plain": [
       "array([[0., 0., 0., ..., 0., 0., 0.],\n",
       "       [1., 0., 0., ..., 0., 0., 0.],\n",
       "       [0., 0., 0., ..., 0., 0., 0.],\n",
       "       ...,\n",
       "       [0., 0., 0., ..., 0., 0., 0.],\n",
       "       [0., 0., 0., ..., 0., 0., 0.],\n",
       "       [0., 0., 0., ..., 0., 1., 0.]], dtype=float32)"
      ]
     },
     "execution_count": 17,
     "metadata": {},
     "output_type": "execute_result"
    }
   ],
   "source": [
    "y_train"
   ]
  },
  {
   "cell_type": "code",
   "execution_count": 18,
   "metadata": {},
   "outputs": [
    {
     "data": {
      "text/plain": [
       "(60000, 10)"
      ]
     },
     "execution_count": 18,
     "metadata": {},
     "output_type": "execute_result"
    }
   ],
   "source": [
    "# Displaying the shape of the training label vector \n",
    "y_train.shape"
   ]
  },
  {
   "cell_type": "code",
   "execution_count": 19,
   "metadata": {},
   "outputs": [
    {
     "data": {
      "text/plain": [
       "(10000, 10)"
      ]
     },
     "execution_count": 19,
     "metadata": {},
     "output_type": "execute_result"
    }
   ],
   "source": [
    "# Displaying the shape of the testing label vector \n",
    "y_test.shape"
   ]
  },
  {
   "cell_type": "markdown",
   "metadata": {},
   "source": [
    "# Building the CNN model"
   ]
  },
  {
   "cell_type": "code",
   "execution_count": 20,
   "metadata": {},
   "outputs": [],
   "source": [
    "# To facilitate the building of the CNN models in different architecture, we will define the following function\n",
    "#Parameters:\n",
    "# batch_size: the size of the batch \n",
    "# epochs: number of epochs \n",
    "# input_shape: The input shape of the images\n",
    "# w_size: The size of the feature detector (kernel window)\n",
    "# p_size: The size of the pooling matrix\n",
    "# n_c_layer: The number of convolutional layers\n",
    "# n_d_layer: The number of dense layers \n",
    "# transfer_actfun: the transfer function for the hidden layers\n",
    "# output_actfun: the output activation function\n",
    "# dropout : An array that has the number of dropout layer and percentage \n",
    "# batch_nor: Boolean True/False\n",
    "def build_model(batch_size, epochs, input_shape, w_size, p_size, n_c_layer, n_d_layer ,transfer_actfun, output_actfun, dropout, batch_nor): \n",
    "    # First step is creating the Neural Network model \n",
    "    model = Sequential()\n",
    "    # Adding the convolution layer with 32 nuerons and 5 x 5 feature detector (size of the kernel window)\n",
    "    for _ in range(n_c_layer):\n",
    "        model.add(Conv2D(32, kernel_size=(w_size, w_size),\n",
    "                     activation=transfer_actfun,\n",
    "                     input_shape=input_shape))\n",
    "    if batch_nor: \n",
    "        # Adding batch normalization\n",
    "        model.add(BatchNormalization())\n",
    "    #Adding the pool layer to choose the best features in size of 2x2 matrix \n",
    "    model.add(MaxPooling2D(pool_size=(p_size, p_size)))\n",
    "    #Adding dropout layer if given in the parameters\n",
    "    for i in range(len(dropout)): \n",
    "        model.add(Dropout(dropout[i]))\n",
    "    #Next, we need to flatten the dimensions since we only have 10 classificiation outputs \n",
    "    model.add(Flatten())\n",
    "    #Adding some dense layers if required: \n",
    "    for _ in range(n_d_layer): \n",
    "        model.add(Dense(128, activation='relu'))\n",
    "    #Adding the output layer with softmax to produce the required output probabilities\n",
    "    model.add(Dense(num_classes, activation=output_actfun))\n",
    "    return model"
   ]
  },
  {
   "cell_type": "code",
   "execution_count": 21,
   "metadata": {},
   "outputs": [],
   "source": [
    "# This function will be used to plot the history of the model training\n",
    "def display_history(history): \n",
    "    # plotting the model accuracy and model learning lost\n",
    "    fig = plt.figure()\n",
    "    plt.subplot(2,1,1)\n",
    "    plt.plot(history.history['acc'])\n",
    "    plt.plot(history.history['val_acc'])\n",
    "    plt.title('Model Accuracy')\n",
    "    plt.ylabel('Accuracy')\n",
    "    plt.xlabel('epoch')\n",
    "    plt.legend(['train', 'test'], loc='lower right')\n",
    "\n",
    "    plt.subplot(2,1,2)\n",
    "    plt.plot(history.history['loss'])\n",
    "    plt.plot(history.history['val_loss'])\n",
    "    plt.title('Model Loss')\n",
    "    plt.ylabel('loss')\n",
    "    plt.xlabel('epoch')\n",
    "    plt.legend(['train', 'test'], loc='upper right')\n",
    "\n",
    "    plt.tight_layout()\n",
    "\n",
    "    return fig"
   ]
  },
  {
   "cell_type": "markdown",
   "metadata": {},
   "source": [
    "## Model1: Building a single layer CNN"
   ]
  },
  {
   "cell_type": "code",
   "execution_count": 22,
   "metadata": {},
   "outputs": [],
   "source": [
    "import keras\n",
    "from keras.models import Sequential\n",
    "# We need tom import few libaries from keras.layers to build up the CNN models \n",
    "from keras.layers import Conv2D, MaxPooling2D, Dropout, Flatten, Dense, BatchNormalization"
   ]
  },
  {
   "cell_type": "code",
   "execution_count": 23,
   "metadata": {},
   "outputs": [],
   "source": [
    "#Defining the model parameters \n",
    "batch_size = 128\n",
    "epochs = 5"
   ]
  },
  {
   "cell_type": "code",
   "execution_count": 24,
   "metadata": {},
   "outputs": [
    {
     "name": "stdout",
     "output_type": "stream",
     "text": [
      "WARNING:tensorflow:From /Users/mohammedalhamid/anaconda3/envs/py37/lib/python3.7/site-packages/tensorflow/python/framework/op_def_library.py:263: colocate_with (from tensorflow.python.framework.ops) is deprecated and will be removed in a future version.\n",
      "Instructions for updating:\n",
      "Colocations handled automatically by placer.\n"
     ]
    }
   ],
   "source": [
    "# Buidling the first model with the following parameters: \n",
    "# batch_size = 128 \n",
    "# epochs = 5 \n",
    "# the size of feature detector 5 x 5\n",
    "# the size of pooling matrix 2 x 2\n",
    "# One convolutional layer \n",
    "# One Output dense layer \n",
    "# No dropout \n",
    "# No batch normalization\n",
    "model = build_model(batch_size, epochs, input_shape, 5, 2, 1, 0,'sigmoid' ,'softmax', [], False)"
   ]
  },
  {
   "cell_type": "code",
   "execution_count": 25,
   "metadata": {},
   "outputs": [],
   "source": [
    "# Compiling the model \n",
    "model.compile(loss='categorical_crossentropy', optimizer='sgd', metrics='accuracy'.split())"
   ]
  },
  {
   "cell_type": "code",
   "execution_count": 26,
   "metadata": {},
   "outputs": [
    {
     "name": "stdout",
     "output_type": "stream",
     "text": [
      "_________________________________________________________________\n",
      "Layer (type)                 Output Shape              Param #   \n",
      "=================================================================\n",
      "conv2d_1 (Conv2D)            (None, 24, 24, 32)        832       \n",
      "_________________________________________________________________\n",
      "max_pooling2d_1 (MaxPooling2 (None, 12, 12, 32)        0         \n",
      "_________________________________________________________________\n",
      "flatten_1 (Flatten)          (None, 4608)              0         \n",
      "_________________________________________________________________\n",
      "dense_1 (Dense)              (None, 10)                46090     \n",
      "=================================================================\n",
      "Total params: 46,922\n",
      "Trainable params: 46,922\n",
      "Non-trainable params: 0\n",
      "_________________________________________________________________\n"
     ]
    }
   ],
   "source": [
    "#Validating the model structure \n",
    "model.summary()"
   ]
  },
  {
   "cell_type": "code",
   "execution_count": 27,
   "metadata": {},
   "outputs": [
    {
     "name": "stdout",
     "output_type": "stream",
     "text": [
      "WARNING:tensorflow:From /Users/mohammedalhamid/anaconda3/envs/py37/lib/python3.7/site-packages/tensorflow/python/ops/math_ops.py:3066: to_int32 (from tensorflow.python.ops.math_ops) is deprecated and will be removed in a future version.\n",
      "Instructions for updating:\n",
      "Use tf.cast instead.\n",
      "Train on 60000 samples, validate on 10000 samples\n",
      "Epoch 1/5\n",
      " - 7s - loss: 2.1707 - acc: 0.2337 - val_loss: 1.7631 - val_acc: 0.4712\n",
      "Epoch 2/5\n",
      " - 7s - loss: 1.2282 - acc: 0.7004 - val_loss: 0.8211 - val_acc: 0.8177\n",
      "Epoch 3/5\n",
      " - 7s - loss: 0.7017 - acc: 0.8228 - val_loss: 0.5874 - val_acc: 0.8418\n",
      "Epoch 4/5\n",
      " - 7s - loss: 0.5447 - acc: 0.8561 - val_loss: 0.4923 - val_acc: 0.8701\n",
      "Epoch 5/5\n",
      " - 7s - loss: 0.4769 - acc: 0.8704 - val_loss: 0.4296 - val_acc: 0.8822\n",
      "CPU times: user 4min 51s, sys: 22.9 s, total: 5min 14s\n",
      "Wall time: 35.2 s\n"
     ]
    }
   ],
   "source": [
    "%%time\n",
    "#Training the model\n",
    "history = model.fit(X_train, y_train,\n",
    "          batch_size=batch_size,\n",
    "          epochs=epochs,\n",
    "          verbose=2,\n",
    "          validation_data=(X_test, y_test))"
   ]
  },
  {
   "cell_type": "code",
   "execution_count": 28,
   "metadata": {},
   "outputs": [
    {
     "data": {
      "image/png": "[encoded data removed]",
      "text/plain": [
       "<Figure size 432x288 with 2 Axes>"
      ]
     },
     "metadata": {
      "needs_background": "light"
     },
     "output_type": "display_data"
    }
   ],
   "source": [
    "fig = display_history(history)"
   ]
  },
  {
   "cell_type": "code",
   "execution_count": 29,
   "metadata": {},
   "outputs": [
    {
     "name": "stdout",
     "output_type": "stream",
     "text": [
      "10000/10000 [==============================] - 1s 100us/step\n"
     ]
    }
   ],
   "source": [
    "# Get the evaluation of the testing dataset \n",
    "m1_results = model.evaluate(X_test,y_test)"
   ]
  },
  {
   "cell_type": "code",
   "execution_count": 30,
   "metadata": {},
   "outputs": [
    {
     "name": "stdout",
     "output_type": "stream",
     "text": [
      "Lost = 0.4296308158397675   Accuracy = 0.8822\n"
     ]
    }
   ],
   "source": [
    "print('Lost =', m1_results[0] ,'  Accuracy =', m1_results[1])"
   ]
  },
  {
   "cell_type": "markdown",
   "metadata": {},
   "source": [
    "## Model 2, building more dense architecture "
   ]
  },
  {
   "cell_type": "markdown",
   "metadata": {},
   "source": [
    "Let us add more complexity to the CNN model: \n",
    "\n",
    "Hypothesis, it will increase the accuracy of the model but the training time would increase. "
   ]
  },
  {
   "cell_type": "code",
   "execution_count": 31,
   "metadata": {},
   "outputs": [],
   "source": [
    "#Add one more convolutional layer with 32 neurons (feature maps) and a 5x5 feature detector. \n",
    "# parameters: \n",
    "# batch_size = 128 \n",
    "# epochs = 5 \n",
    "# the size of feature detector 5 x 5\n",
    "# the size of pooling matrix 2 x 2\n",
    "# One convolutional layer \n",
    "# One Dense layer\n",
    "# One Output dense layer\n",
    "# No dropout \n",
    "# No batch normalization\n",
    "model2 = build_model(batch_size, epochs, input_shape, 5, 2, 2, 1,'sigmoid' ,'softmax', [], False)"
   ]
  },
  {
   "cell_type": "code",
   "execution_count": 32,
   "metadata": {},
   "outputs": [],
   "source": [
    "# Compiling the model \n",
    "model2.compile(loss='categorical_crossentropy', optimizer='sgd', metrics='accuracy'.split())"
   ]
  },
  {
   "cell_type": "code",
   "execution_count": 33,
   "metadata": {},
   "outputs": [
    {
     "name": "stdout",
     "output_type": "stream",
     "text": [
      "_________________________________________________________________\n",
      "Layer (type)                 Output Shape              Param #   \n",
      "=================================================================\n",
      "conv2d_2 (Conv2D)            (None, 24, 24, 32)        832       \n",
      "_________________________________________________________________\n",
      "conv2d_3 (Conv2D)            (None, 20, 20, 32)        25632     \n",
      "_________________________________________________________________\n",
      "max_pooling2d_2 (MaxPooling2 (None, 10, 10, 32)        0         \n",
      "_________________________________________________________________\n",
      "flatten_2 (Flatten)          (None, 3200)              0         \n",
      "_________________________________________________________________\n",
      "dense_2 (Dense)              (None, 128)               409728    \n",
      "_________________________________________________________________\n",
      "dense_3 (Dense)              (None, 10)                1290      \n",
      "=================================================================\n",
      "Total params: 437,482\n",
      "Trainable params: 437,482\n",
      "Non-trainable params: 0\n",
      "_________________________________________________________________\n"
     ]
    }
   ],
   "source": [
    "#Validating the model structure \n",
    "model2.summary()"
   ]
  },
  {
   "cell_type": "code",
   "execution_count": 34,
   "metadata": {},
   "outputs": [
    {
     "name": "stdout",
     "output_type": "stream",
     "text": [
      "Train on 60000 samples, validate on 10000 samples\n",
      "Epoch 1/5\n",
      " - 43s - loss: 2.3071 - acc: 0.1126 - val_loss: 2.3021 - val_acc: 0.1028\n",
      "Epoch 2/5\n",
      " - 44s - loss: 2.2809 - acc: 0.1442 - val_loss: 2.2424 - val_acc: 0.2845\n",
      "Epoch 3/5\n",
      " - 41s - loss: 1.9160 - acc: 0.4393 - val_loss: 1.2099 - val_acc: 0.6615\n",
      "Epoch 4/5\n",
      " - 42s - loss: 0.7470 - acc: 0.7968 - val_loss: 0.5173 - val_acc: 0.8547\n",
      "Epoch 5/5\n",
      " - 43s - loss: 0.4747 - acc: 0.8630 - val_loss: 0.4126 - val_acc: 0.8796\n"
     ]
    },
    {
     "data": {
      "text/plain": [
       "<keras.callbacks.History at 0x7f9098986cf8>"
      ]
     },
     "execution_count": 34,
     "metadata": {},
     "output_type": "execute_result"
    }
   ],
   "source": [
    "#Training the model \n",
    "model2.fit(X_train, y_train,\n",
    "          batch_size=batch_size,\n",
    "          epochs=epochs,\n",
    "          verbose=2,\n",
    "          validation_data=(X_test, y_test))"
   ]
  },
  {
   "cell_type": "code",
   "execution_count": 35,
   "metadata": {},
   "outputs": [
    {
     "name": "stdout",
     "output_type": "stream",
     "text": [
      "10000/10000 [==============================] - 3s 340us/step\n"
     ]
    }
   ],
   "source": [
    "# Get the evaluation of the testing dataset \n",
    "m2_results = model2.evaluate(X_test,y_test)"
   ]
  },
  {
   "cell_type": "code",
   "execution_count": 36,
   "metadata": {},
   "outputs": [
    {
     "name": "stdout",
     "output_type": "stream",
     "text": [
      "Lost = 0.4125865311384201   Accuracy = 0.8796\n"
     ]
    }
   ],
   "source": [
    "print('Lost =', m2_results[0] ,'  Accuracy =', m2_results[1])"
   ]
  },
  {
   "cell_type": "markdown",
   "metadata": {},
   "source": [
    "##### -- Findings -- <br>\n",
    "The results accuracy using the second model did not go up as we were expecting. \n",
    "In fact, the first model is slightly more accurate and faster to train. One thing came to out mind is the number of node in the hidden layer is not enough to extrapolite the convolution"
   ]
  },
  {
   "cell_type": "markdown",
   "metadata": {},
   "source": [
    "## Adding Dropout Layer"
   ]
  },
  {
   "cell_type": "markdown",
   "metadata": {},
   "source": [
    "In this taks, we are going to examine the effects of adding a dropout layer\n",
    "\n",
    "Hypothesis, it will avoid overfitting the data and hence perform well on the test data. May increase the training time "
   ]
  },
  {
   "cell_type": "code",
   "execution_count": 37,
   "metadata": {},
   "outputs": [
    {
     "name": "stdout",
     "output_type": "stream",
     "text": [
      "WARNING:tensorflow:From /Users/mohammedalhamid/anaconda3/envs/py37/lib/python3.7/site-packages/keras/backend/tensorflow_backend.py:3445: calling dropout (from tensorflow.python.ops.nn_ops) with keep_prob is deprecated and will be removed in a future version.\n",
      "Instructions for updating:\n",
      "Please use `rate` instead of `keep_prob`. Rate should be set to `rate = 1 - keep_prob`.\n"
     ]
    }
   ],
   "source": [
    "model3 = build_model(batch_size, epochs, input_shape, 5, 2, 2, 1,'sigmoid' ,'softmax', [0.25], False)"
   ]
  },
  {
   "cell_type": "code",
   "execution_count": 38,
   "metadata": {},
   "outputs": [],
   "source": [
    "# Compiling the model \n",
    "model3.compile(loss='categorical_crossentropy', optimizer='sgd', metrics='accuracy'.split())"
   ]
  },
  {
   "cell_type": "code",
   "execution_count": 39,
   "metadata": {},
   "outputs": [
    {
     "name": "stdout",
     "output_type": "stream",
     "text": [
      "_________________________________________________________________\n",
      "Layer (type)                 Output Shape              Param #   \n",
      "=================================================================\n",
      "conv2d_4 (Conv2D)            (None, 24, 24, 32)        832       \n",
      "_________________________________________________________________\n",
      "conv2d_5 (Conv2D)            (None, 20, 20, 32)        25632     \n",
      "_________________________________________________________________\n",
      "max_pooling2d_3 (MaxPooling2 (None, 10, 10, 32)        0         \n",
      "_________________________________________________________________\n",
      "dropout_1 (Dropout)          (None, 10, 10, 32)        0         \n",
      "_________________________________________________________________\n",
      "flatten_3 (Flatten)          (None, 3200)              0         \n",
      "_________________________________________________________________\n",
      "dense_4 (Dense)              (None, 128)               409728    \n",
      "_________________________________________________________________\n",
      "dense_5 (Dense)              (None, 10)                1290      \n",
      "=================================================================\n",
      "Total params: 437,482\n",
      "Trainable params: 437,482\n",
      "Non-trainable params: 0\n",
      "_________________________________________________________________\n"
     ]
    }
   ],
   "source": [
    "#Validating the model structure \n",
    "model3.summary()"
   ]
  },
  {
   "cell_type": "code",
   "execution_count": 40,
   "metadata": {},
   "outputs": [
    {
     "name": "stdout",
     "output_type": "stream",
     "text": [
      "Train on 60000 samples, validate on 10000 samples\n",
      "Epoch 1/5\n",
      " - 44s - loss: 2.3151 - acc: 0.1060 - val_loss: 2.2987 - val_acc: 0.1135\n",
      "Epoch 2/5\n",
      " - 47s - loss: 2.3021 - acc: 0.1101 - val_loss: 2.2993 - val_acc: 0.0958\n",
      "Epoch 3/5\n",
      " - 44s - loss: 2.2998 - acc: 0.1140 - val_loss: 2.2946 - val_acc: 0.2009\n",
      "Epoch 4/5\n",
      " - 45s - loss: 2.2931 - acc: 0.1284 - val_loss: 2.2779 - val_acc: 0.1010\n",
      "Epoch 5/5\n",
      " - 44s - loss: 2.2301 - acc: 0.2093 - val_loss: 2.0517 - val_acc: 0.4677\n"
     ]
    },
    {
     "data": {
      "text/plain": [
       "<keras.callbacks.History at 0x7f9088a22978>"
      ]
     },
     "execution_count": 40,
     "metadata": {},
     "output_type": "execute_result"
    }
   ],
   "source": [
    "#Training the model \n",
    "model3.fit(X_train, y_train,\n",
    "          batch_size=batch_size,\n",
    "          epochs=epochs,\n",
    "          verbose=2,\n",
    "          validation_data=(X_test, y_test))"
   ]
  },
  {
   "cell_type": "code",
   "execution_count": 41,
   "metadata": {},
   "outputs": [
    {
     "name": "stdout",
     "output_type": "stream",
     "text": [
      "10000/10000 [==============================] - 4s 366us/step\n"
     ]
    }
   ],
   "source": [
    "# Get the evaluation of the testing dataset \n",
    "m3_results = model3.evaluate(X_test,y_test)"
   ]
  },
  {
   "cell_type": "code",
   "execution_count": 42,
   "metadata": {},
   "outputs": [
    {
     "name": "stdout",
     "output_type": "stream",
     "text": [
      "Lost = 2.0517194766998292   Accuracy = 0.4677\n"
     ]
    }
   ],
   "source": [
    "print('Lost =', m3_results[0] ,'  Accuracy =', m3_results[1])"
   ]
  },
  {
   "cell_type": "markdown",
   "metadata": {},
   "source": [
    "##### -- Findings -- <br>\n",
    "The results accuracy using the third model got extremley worst. "
   ]
  },
  {
   "cell_type": "markdown",
   "metadata": {},
   "source": [
    "### Part 2, Task 4"
   ]
  },
  {
   "cell_type": "markdown",
   "metadata": {},
   "source": [
    "In this taks, we are going to add a dropout layer\n",
    "\n",
    "Hypothesis, adding batch normalization will make the model train much faster and converge much more quickly"
   ]
  },
  {
   "cell_type": "code",
   "execution_count": 43,
   "metadata": {},
   "outputs": [],
   "source": [
    "model4 = build_model(batch_size, epochs, input_shape, 5, 2, 2, 1,'sigmoid' ,'softmax', [0.25], True)"
   ]
  },
  {
   "cell_type": "code",
   "execution_count": 44,
   "metadata": {},
   "outputs": [],
   "source": [
    "# Compiling the model \n",
    "model4.compile(loss='categorical_crossentropy', optimizer='sgd', metrics='accuracy'.split())"
   ]
  },
  {
   "cell_type": "code",
   "execution_count": 45,
   "metadata": {},
   "outputs": [
    {
     "name": "stdout",
     "output_type": "stream",
     "text": [
      "_________________________________________________________________\n",
      "Layer (type)                 Output Shape              Param #   \n",
      "=================================================================\n",
      "conv2d_4 (Conv2D)            (None, 24, 24, 32)        832       \n",
      "_________________________________________________________________\n",
      "conv2d_5 (Conv2D)            (None, 20, 20, 32)        25632     \n",
      "_________________________________________________________________\n",
      "max_pooling2d_3 (MaxPooling2 (None, 10, 10, 32)        0         \n",
      "_________________________________________________________________\n",
      "dropout_1 (Dropout)          (None, 10, 10, 32)        0         \n",
      "_________________________________________________________________\n",
      "flatten_3 (Flatten)          (None, 3200)              0         \n",
      "_________________________________________________________________\n",
      "dense_4 (Dense)              (None, 128)               409728    \n",
      "_________________________________________________________________\n",
      "dense_5 (Dense)              (None, 10)                1290      \n",
      "=================================================================\n",
      "Total params: 437,482\n",
      "Trainable params: 437,482\n",
      "Non-trainable params: 0\n",
      "_________________________________________________________________\n"
     ]
    }
   ],
   "source": [
    "model3.summary()"
   ]
  },
  {
   "cell_type": "code",
   "execution_count": 46,
   "metadata": {},
   "outputs": [
    {
     "name": "stdout",
     "output_type": "stream",
     "text": [
      "Train on 60000 samples, validate on 10000 samples\n",
      "Epoch 1/5\n",
      " - 58s - loss: 0.5625 - acc: 0.8367 - val_loss: 0.2617 - val_acc: 0.9185\n",
      "Epoch 2/5\n",
      " - 58s - loss: 0.2474 - acc: 0.9262 - val_loss: 0.1858 - val_acc: 0.9437\n",
      "Epoch 3/5\n",
      " - 57s - loss: 0.1923 - acc: 0.9428 - val_loss: 0.1552 - val_acc: 0.9533\n",
      "Epoch 4/5\n",
      " - 56s - loss: 0.1579 - acc: 0.9527 - val_loss: 0.1228 - val_acc: 0.9623\n",
      "Epoch 5/5\n",
      " - 56s - loss: 0.1376 - acc: 0.9592 - val_loss: 0.1110 - val_acc: 0.9662\n"
     ]
    },
    {
     "data": {
      "text/plain": [
       "<keras.callbacks.History at 0x7f9098ce4198>"
      ]
     },
     "execution_count": 46,
     "metadata": {},
     "output_type": "execute_result"
    }
   ],
   "source": [
    "#Training the model \n",
    "model4.fit(X_train, y_train,\n",
    "          batch_size=batch_size,\n",
    "          epochs=epochs,\n",
    "          verbose=2,\n",
    "          validation_data=(X_test, y_test))"
   ]
  },
  {
   "cell_type": "code",
   "execution_count": 47,
   "metadata": {},
   "outputs": [
    {
     "name": "stdout",
     "output_type": "stream",
     "text": [
      "10000/10000 [==============================] - 4s 403us/step\n"
     ]
    }
   ],
   "source": [
    "# Get the evaluation of the testing dataset \n",
    "m4_results = model4.evaluate(X_test,y_test)"
   ]
  },
  {
   "cell_type": "code",
   "execution_count": 48,
   "metadata": {},
   "outputs": [
    {
     "name": "stdout",
     "output_type": "stream",
     "text": [
      "Lost = 0.11102580700442195   Accuracy = 0.9662\n"
     ]
    }
   ],
   "source": [
    "print('Lost =', m4_results[0] ,'  Accuracy =', m4_results[1])"
   ]
  },
  {
   "cell_type": "markdown",
   "metadata": {},
   "source": [
    "##### -- Findings -- <br>\n",
    "The results improved significantly "
   ]
  },
  {
   "cell_type": "markdown",
   "metadata": {},
   "source": [
    "## What to consider to improve the model accuracy"
   ]
  },
  {
   "cell_type": "markdown",
   "metadata": {},
   "source": [
    "We could do the following: \n",
    "- Decreasing the pool window size (kernel size) to increase the sensitivity of the detection\n",
    "- Change the activation function \n",
    "- Adding a dropout layer after the dense layer \n",
    "- Increasing the number of epochs, increase the model training time but we trying to compromise that to increase accuracy \n",
    "- Change the optimization function. ReLu is nonlinear in nature. It might be a good approximator in this situation\n"
   ]
  },
  {
   "cell_type": "markdown",
   "metadata": {},
   "source": [
    "## Improving the model performance "
   ]
  },
  {
   "cell_type": "code",
   "execution_count": 49,
   "metadata": {},
   "outputs": [],
   "source": [
    "# To facilitate the building of the CNN models in different architecture, we will define the following function\n",
    "#Parameters:\n",
    "# batch_size: the size of the batch \n",
    "# epochs: number of epochs \n",
    "# input_shape: The input shape of the images\n",
    "# w_size: The size of the feature detector (kernel window)\n",
    "# p_size: The size of the pooling matrix\n",
    "# n_c_layer: The number of convolutional layers\n",
    "# n_d_layer: The number of dense layers \n",
    "# transfer_actfun: the transfer function for the hidden layers\n",
    "# output_actfun: the output activation function\n",
    "# dropout : An array that has the number of dropout layer and percentage \n",
    "# batch_nor: Boolean True/False\n",
    "def build_model_v2(batch_size, epochs, input_shape, w_size, p_size, n_c_layer, n_d_layer ,transfer_actfun, output_actfun, dropout, batch_nor): \n",
    "    # First step is creating the Neural Network model \n",
    "    model = Sequential()\n",
    "    # Adding the convolution layer with 32 nuerons and 5 x 5 feature detector (size of the kernel window)\n",
    "    for i in range(n_c_layer):\n",
    "        model.add(Conv2D(32 *( i + 1), kernel_size=(w_size, w_size),\n",
    "                     activation=transfer_actfun,\n",
    "                     input_shape=input_shape))\n",
    "    if batch_nor: \n",
    "        # Adding batch normalization\n",
    "        model.add(BatchNormalization())\n",
    "    #Adding the pool layer to choose the best features in size of 2x2 matrix \n",
    "    model.add(MaxPooling2D(pool_size=(p_size, p_size)))\n",
    "    #Adding dropout layer if given in the parameters\n",
    "    for i in range(len(dropout)): \n",
    "        model.add(Dropout(dropout[i]))\n",
    "    #Next, we need to flatten the dimensions since we only have 10 classificiation outputs \n",
    "    model.add(Flatten())\n",
    "    #Adding some dense layers if required: \n",
    "    for _ in range(n_d_layer): \n",
    "        model.add(Dense(128, activation=transfer_actfun))\n",
    "    model.add(Dropout(0.5))\n",
    "    #Adding the output layer with softmax to produce the required output probabilities\n",
    "    model.add(Dense(num_classes, activation=output_actfun))\n",
    "    return model"
   ]
  },
  {
   "cell_type": "code",
   "execution_count": 50,
   "metadata": {},
   "outputs": [],
   "source": [
    "model5 = build_model_v2(batch_size, epochs, input_shape, 3, 2, 2, 1,'relu' ,'softmax', [0.25], False)"
   ]
  },
  {
   "cell_type": "code",
   "execution_count": 51,
   "metadata": {},
   "outputs": [],
   "source": [
    "model5.compile(loss='categorical_crossentropy', optimizer='Adadelta', metrics='accuracy'.split())"
   ]
  },
  {
   "cell_type": "code",
   "execution_count": 52,
   "metadata": {},
   "outputs": [
    {
     "name": "stdout",
     "output_type": "stream",
     "text": [
      "_________________________________________________________________\n",
      "Layer (type)                 Output Shape              Param #   \n",
      "=================================================================\n",
      "conv2d_8 (Conv2D)            (None, 26, 26, 32)        320       \n",
      "_________________________________________________________________\n",
      "conv2d_9 (Conv2D)            (None, 24, 24, 64)        18496     \n",
      "_________________________________________________________________\n",
      "max_pooling2d_5 (MaxPooling2 (None, 12, 12, 64)        0         \n",
      "_________________________________________________________________\n",
      "dropout_3 (Dropout)          (None, 12, 12, 64)        0         \n",
      "_________________________________________________________________\n",
      "flatten_5 (Flatten)          (None, 9216)              0         \n",
      "_________________________________________________________________\n",
      "dense_8 (Dense)              (None, 128)               1179776   \n",
      "_________________________________________________________________\n",
      "dropout_4 (Dropout)          (None, 128)               0         \n",
      "_________________________________________________________________\n",
      "dense_9 (Dense)              (None, 10)                1290      \n",
      "=================================================================\n",
      "Total params: 1,199,882\n",
      "Trainable params: 1,199,882\n",
      "Non-trainable params: 0\n",
      "_________________________________________________________________\n"
     ]
    }
   ],
   "source": [
    "model5.summary()"
   ]
  },
  {
   "cell_type": "code",
   "execution_count": 53,
   "metadata": {},
   "outputs": [
    {
     "name": "stdout",
     "output_type": "stream",
     "text": [
      "Train on 60000 samples, validate on 10000 samples\n",
      "Epoch 1/10\n",
      " - 47s - loss: 0.2613 - acc: 0.9188 - val_loss: 0.0543 - val_acc: 0.9831\n",
      "Epoch 2/10\n",
      " - 46s - loss: 0.0863 - acc: 0.9736 - val_loss: 0.0385 - val_acc: 0.9862\n",
      "Epoch 3/10\n",
      " - 49s - loss: 0.0663 - acc: 0.9806 - val_loss: 0.0364 - val_acc: 0.9872\n",
      "Epoch 4/10\n",
      " - 48s - loss: 0.0531 - acc: 0.9835 - val_loss: 0.0330 - val_acc: 0.9890\n",
      "Epoch 5/10\n",
      " - 48s - loss: 0.0455 - acc: 0.9860 - val_loss: 0.0304 - val_acc: 0.9899\n",
      "Epoch 6/10\n",
      " - 47s - loss: 0.0407 - acc: 0.9874 - val_loss: 0.0304 - val_acc: 0.9898\n",
      "Epoch 7/10\n",
      " - 47s - loss: 0.0367 - acc: 0.9884 - val_loss: 0.0275 - val_acc: 0.9903\n",
      "Epoch 8/10\n",
      " - 45s - loss: 0.0333 - acc: 0.9896 - val_loss: 0.0295 - val_acc: 0.9910\n",
      "Epoch 9/10\n",
      " - 45s - loss: 0.0315 - acc: 0.9906 - val_loss: 0.0293 - val_acc: 0.9910\n",
      "Epoch 10/10\n",
      " - 45s - loss: 0.0289 - acc: 0.9910 - val_loss: 0.0292 - val_acc: 0.9916\n"
     ]
    }
   ],
   "source": [
    "#Training the model \n",
    "history = model5.fit(X_train, y_train,\n",
    "          batch_size=batch_size,\n",
    "          epochs=10,\n",
    "          verbose=2,\n",
    "          validation_data=(X_test, y_test))"
   ]
  },
  {
   "cell_type": "code",
   "execution_count": 54,
   "metadata": {},
   "outputs": [
    {
     "name": "stdout",
     "output_type": "stream",
     "text": [
      "10000/10000 [==============================] - 3s 283us/step\n"
     ]
    }
   ],
   "source": [
    "m5_results = model5.evaluate(X_test,y_test)"
   ]
  },
  {
   "cell_type": "code",
   "execution_count": 55,
   "metadata": {},
   "outputs": [
    {
     "name": "stdout",
     "output_type": "stream",
     "text": [
      "Lost = 0.029154129273346006   Accuracy = 0.9916\n"
     ]
    }
   ],
   "source": [
    "print('Lost =', m5_results[0] ,'  Accuracy =', m5_results[1])"
   ]
  },
  {
   "cell_type": "markdown",
   "metadata": {},
   "source": [
    "# Summary and Comparisons"
   ]
  },
  {
   "cell_type": "code",
   "execution_count": 56,
   "metadata": {},
   "outputs": [
    {
     "data": {
      "image/png": "[encoded data removed]",
      "text/plain": [
       "<Figure size 432x288 with 1 Axes>"
      ]
     },
     "metadata": {
      "needs_background": "light"
     },
     "output_type": "display_data"
    }
   ],
   "source": [
    "labels = ['Model1', 'Model2', 'Model3', 'Model4', 'Model5']\n",
    "lost_means = [m1_results[0],m2_results[0],m3_results[0],m4_results[0],m5_results[0]]\n",
    "acc_means = [m1_results[1],m2_results[1],m3_results[1],m4_results[1],m5_results[1]]\n",
    "\n",
    "x = np.arange(len(labels))  # the label locations\n",
    "width = 0.35  # the width of the bars\n",
    "\n",
    "fig, ax = plt.subplots()\n",
    "bar1 = ax.bar(x - width/2, lost_means, width, label='Lost')\n",
    "bar2 = ax.bar(x + width/2, acc_means, width, label='Accuracy')\n",
    "\n",
    "# Add some text for labels, title and custom x-axis tick labels, etc.\n",
    "ax.set_ylabel('Scores')\n",
    "ax.set_title('Models Performance')\n",
    "ax.set_xticks(x)\n",
    "ax.set_xticklabels(labels)\n",
    "ax.legend()\n",
    "\n",
    "def autolabel(bars):\n",
    "    for bar in bars:\n",
    "        height = bar.get_height()\n",
    "        ax.annotate('{}'.format(round(height, 2)),\n",
    "                    xy=(bar.get_x() + bar.get_width() / 2, height),\n",
    "                    xytext=(0, 3),  \n",
    "                    textcoords=\"offset points\",\n",
    "                    ha='center', va='bottom')\n",
    "\n",
    "\n",
    "autolabel(bar1)\n",
    "autolabel(bar2)\n",
    "\n",
    "fig.tight_layout()\n",
    "plt.show()"
   ]
  },
  {
   "cell_type": "markdown",
   "metadata": {},
   "source": [
    "The best accuracy achieved is 99% using Model 5."
   ]
  },
  {
   "cell_type": "markdown",
   "metadata": {},
   "source": [
    "#### Investigating Model 5 Learning Rate "
   ]
  },
  {
   "cell_type": "code",
   "execution_count": 57,
   "metadata": {},
   "outputs": [
    {
     "data": {
      "image/png": "[encoded data removed]",
      "text/plain": [
       "<Figure size 432x288 with 2 Axes>"
      ]
     },
     "execution_count": 57,
     "metadata": {},
     "output_type": "execute_result"
    },
    {
     "data": {
      "image/png": "[encoded data removed]",
      "text/plain": [
       "<Figure size 432x288 with 2 Axes>"
      ]
     },
     "metadata": {
      "needs_background": "light"
     },
     "output_type": "display_data"
    }
   ],
   "source": [
    "# plotting the model accuracy and model learning lost\n",
    "fig = plt.figure()\n",
    "plt.subplot(2,1,1)\n",
    "plt.plot(history.history['acc'])\n",
    "plt.plot(history.history['val_acc'])\n",
    "plt.title('Model Accuracy')\n",
    "plt.ylabel('Accuracy')\n",
    "plt.xlabel('epoch')\n",
    "plt.legend(['train', 'test'], loc='lower right')\n",
    "\n",
    "plt.subplot(2,1,2)\n",
    "plt.plot(history.history['loss'])\n",
    "plt.plot(history.history['val_loss'])\n",
    "plt.title('Model Loss')\n",
    "plt.ylabel('loss')\n",
    "plt.xlabel('epoch')\n",
    "plt.legend(['train', 'test'], loc='upper right')\n",
    "\n",
    "plt.tight_layout()\n",
    "\n",
    "fig"
   ]
  }
 ],
 "metadata": {
  "kernelspec": {
   "display_name": "Python 3",
   "language": "python",
   "name": "python3"
  },
  "language_info": {
   "codemirror_mode": {
    "name": "ipython",
    "version": 3
   },
   "file_extension": ".py",
   "mimetype": "text/x-python",
   "name": "python",
   "nbconvert_exporter": "python",
   "pygments_lexer": "ipython3",
   "version": "3.7.2"
  }
 },
 "nbformat": 4,
 "nbformat_minor": 2
}
